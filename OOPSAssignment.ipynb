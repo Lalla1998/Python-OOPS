{
  "nbformat": 4,
  "nbformat_minor": 0,
  "metadata": {
    "colab": {
      "provenance": []
    },
    "kernelspec": {
      "name": "python3",
      "display_name": "Python 3"
    },
    "language_info": {
      "name": "python"
    }
  },
  "cells": [
    {
      "cell_type": "markdown",
      "source": [
        "### Python OOPS Questions:\n"
      ],
      "metadata": {
        "id": "56aE2EnYK-l7"
      }
    },
    {
      "cell_type": "markdown",
      "source": [
        "1.What is Object-Oriented Programming (OOP)?"
      ],
      "metadata": {
        "id": "oItiHNkaLLaD"
      }
    },
    {
      "cell_type": "markdown",
      "source": [
        "**Answer-** OOP stands for Object Oriented Programming.\n",
        "\n",
        "It is a programming style where code is organized around objects containing both data and behaviour .\n",
        "It is a programming technique in which we model the data and behaviour in the form of classes and objects."
      ],
      "metadata": {
        "id": "9RDAtE9AVKMq"
      }
    },
    {
      "cell_type": "markdown",
      "source": [
        "2. What is a class in OOP?"
      ],
      "metadata": {
        "id": "R8HU2qNFXVAm"
      }
    },
    {
      "cell_type": "markdown",
      "source": [
        "**Answer-** Classes are the prototype or blueprint from which objects are created.\n",
        "\n",
        "Classes are the set of objects which share common behaviour/characteristics and common properties.\n",
        "\n",
        "or we can say that classes are the group of methods that are common to all objects."
      ],
      "metadata": {
        "id": "2kWoqQ_sXZNQ"
      }
    },
    {
      "cell_type": "markdown",
      "source": [
        "3.What is an object in OOP?"
      ],
      "metadata": {
        "id": "yFVkqSB5ZapR"
      }
    },
    {
      "cell_type": "markdown",
      "source": [
        "**Answer-**  An Object is a basic unit of OOP. It represents a real world entity.\n",
        "\n",
        "An object is a self-contained unit that bundles data and the functions that operate on the data.\n",
        "\n",
        "Analogy - An Object is the actual house and class are the blueprint of house.\n",
        "\n",
        "\n"
      ],
      "metadata": {
        "id": "xKOs058KZf8j"
      }
    },
    {
      "cell_type": "markdown",
      "source": [
        "4. What is the difference between abstraction and encapsulation?"
      ],
      "metadata": {
        "id": "xyOMNjENbi2G"
      }
    },
    {
      "cell_type": "markdown",
      "source": [
        "**Answer-** Encapsulation means bundling and hiding something data and methods together and restricting direct access to some parts of the object.\n",
        "\n",
        "It's goal is to protect data integrity and prevent unintended interference using access modifiers like public , protected and private. Whereas\n",
        "\n",
        "\n",
        "Abstraction is the concept of OOPs programming which hides the common implementations details and showing only essential features.\n",
        "\n",
        "It's goal is to reduce complexity and increase efficiency by exposing only necessary parts via interfaces or methods."
      ],
      "metadata": {
        "id": "HJEAMo1oceJ5"
      }
    },
    {
      "cell_type": "code",
      "source": [
        "#Encapsulation\n",
        "class BankAccount:\n",
        "    def __init__(self, balance):\n",
        "        self.__balance = balance # balance is private variable\n",
        "\n",
        "    def deposit(self, amount):\n",
        "        self.__balance += amount\n",
        "\n",
        "    def withdraw(self, amount):\n",
        "        if self.__balance >= amount:\n",
        "            self.__balance -= amount\n",
        "\n",
        "obj = BankAccount()\n",
        "print(obj.balance) # since balance is a private variables it can not be accessed directly."
      ],
      "metadata": {
        "colab": {
          "base_uri": "https://localhost:8080/",
          "height": 193
        },
        "id": "ySn-hc_zf9Fy",
        "outputId": "51ac15a5-ceca-44fb-c208-4b7db6950325"
      },
      "execution_count": null,
      "outputs": [
        {
          "output_type": "error",
          "ename": "TypeError",
          "evalue": "BankAccount.__init__() missing 1 required positional argument: 'balance'",
          "traceback": [
            "\u001b[0;31m---------------------------------------------------------------------------\u001b[0m",
            "\u001b[0;31mTypeError\u001b[0m                                 Traceback (most recent call last)",
            "\u001b[0;32m<ipython-input-2-90545b80799b>\u001b[0m in \u001b[0;36m<cell line: 0>\u001b[0;34m()\u001b[0m\n\u001b[1;32m     11\u001b[0m             \u001b[0mself\u001b[0m\u001b[0;34m.\u001b[0m\u001b[0m__balance\u001b[0m \u001b[0;34m-=\u001b[0m \u001b[0mamount\u001b[0m\u001b[0;34m\u001b[0m\u001b[0;34m\u001b[0m\u001b[0m\n\u001b[1;32m     12\u001b[0m \u001b[0;34m\u001b[0m\u001b[0m\n\u001b[0;32m---> 13\u001b[0;31m \u001b[0mobj\u001b[0m \u001b[0;34m=\u001b[0m \u001b[0mBankAccount\u001b[0m\u001b[0;34m(\u001b[0m\u001b[0;34m)\u001b[0m\u001b[0;34m\u001b[0m\u001b[0;34m\u001b[0m\u001b[0m\n\u001b[0m\u001b[1;32m     14\u001b[0m \u001b[0mprint\u001b[0m\u001b[0;34m(\u001b[0m\u001b[0mobj\u001b[0m\u001b[0;34m.\u001b[0m\u001b[0mbalance\u001b[0m\u001b[0;34m)\u001b[0m \u001b[0;31m# since balance is a private variables it can not be accessed directly.\u001b[0m\u001b[0;34m\u001b[0m\u001b[0;34m\u001b[0m\u001b[0m\n",
            "\u001b[0;31mTypeError\u001b[0m: BankAccount.__init__() missing 1 required positional argument: 'balance'"
          ]
        }
      ]
    },
    {
      "cell_type": "code",
      "source": [
        "#Abstraction\n",
        "class Atm:\n",
        "  def withdrawl(self,amount):\n",
        "    print(f\"withdrawing {amount}\")\n",
        "   #Internal steps are hidden from user that how withdrawl is processed from account\n",
        "Cust = Atm()\n",
        "Cust.withdrawl(1000)"
      ],
      "metadata": {
        "colab": {
          "base_uri": "https://localhost:8080/"
        },
        "id": "nkULK7OXgZwp",
        "outputId": "b8d32d26-5b38-4539-b096-82421e0b4fe8"
      },
      "execution_count": null,
      "outputs": [
        {
          "output_type": "stream",
          "name": "stdout",
          "text": [
            "withdrawing 1000\n"
          ]
        }
      ]
    },
    {
      "cell_type": "markdown",
      "source": [
        "5.What are dunder methods in Python?"
      ],
      "metadata": {
        "id": "X-it2c76hQ3q"
      }
    },
    {
      "cell_type": "markdown",
      "source": [
        "**Answer-** Dunder/magic/special method is defined by built-in classes in python\n",
        ".\n",
        "\n",
        " Dunder means d + under i.e. d means double and under means underscore.\n",
        "\n",
        " All the methods surrounding by double underscore in python is a dunder method.\n",
        "\n",
        " Classes define these types of methods for creating custom objects for init (means data for every objects).\n",
        "\n",
        " example  __init__ method, __add__ method"
      ],
      "metadata": {
        "id": "CqSMRiU7hcZG"
      }
    },
    {
      "cell_type": "code",
      "source": [
        "a = \"pw\"\n",
        "b = \"skills\"\n",
        "a.__add__(b)"
      ],
      "metadata": {
        "colab": {
          "base_uri": "https://localhost:8080/",
          "height": 35
        },
        "id": "z1TM98gBg-fC",
        "outputId": "d6f01381-152f-4b77-e008-cbd3e9db66c3"
      },
      "execution_count": null,
      "outputs": [
        {
          "output_type": "execute_result",
          "data": {
            "text/plain": [
              "'pwskills'"
            ],
            "application/vnd.google.colaboratory.intrinsic+json": {
              "type": "string"
            }
          },
          "metadata": {},
          "execution_count": 5
        }
      ]
    },
    {
      "cell_type": "markdown",
      "source": [
        "6. Explain the concept of inheritance in OOP."
      ],
      "metadata": {
        "id": "dkPOQEYujXSW"
      }
    },
    {
      "cell_type": "markdown",
      "source": [
        "**Answer-** Inheritance is also an important parts of OOP in which one object acquires all the properties and behavoiur of parent object .\n",
        "\n",
        "Inheritance refers to the process of child class receiving the property of parent class.\n",
        "\n",
        "class BaseClass:\n",
        "    #body of base class\n",
        "class DerivedClass(BaseClass):\n",
        "    #body of derived class\n",
        "\n",
        "There are various types of inheritance in python like single inheritance , multiple inheritance , multilevel inheritance and hierarchical inheritance."
      ],
      "metadata": {
        "id": "1YuNMqp2jebu"
      }
    },
    {
      "cell_type": "markdown",
      "source": [
        "7.What is polymorphism in OOP?"
      ],
      "metadata": {
        "id": "me6T8LHYlCZx"
      }
    },
    {
      "cell_type": "markdown",
      "source": [
        "**Answer-** Poly means 'many' and morphism means state/forms . Polymorphism refers to an object that takes several forms depends on the  method.\n",
        "\n",
        "Polymorphism allows the same method or operator to behave differently depending on the object or data type .\n",
        "\n",
        "Polymorphism takes place in two ways:\n",
        "\n",
        "1. Method Overriding\n",
        "2. Method Overloading"
      ],
      "metadata": {
        "id": "-0Z_s6k9NQuS"
      }
    },
    {
      "cell_type": "code",
      "source": [
        "#Polymorphism use case\n",
        "class Animal:\n",
        "  def sound(self):\n",
        "    print(\"Animals sound\")\n",
        "\n",
        "class Cat(Animal):\n",
        "  def sound(self):\n",
        "    print(\"Meow\")\n",
        "\n",
        "class Dog(Animal):\n",
        "  def sound(self):\n",
        "    print(\"Woof\")\n",
        "anm = Animal()\n",
        "print(anm.sound())\n",
        "cat = Cat()\n",
        "print(cat.sound())\n",
        "dog = Dog()\n",
        "print(dog.sound())"
      ],
      "metadata": {
        "colab": {
          "base_uri": "https://localhost:8080/"
        },
        "id": "EqqkA5lAjQ3R",
        "outputId": "a473fafd-0d4f-404a-c267-62c44d7238ac"
      },
      "execution_count": null,
      "outputs": [
        {
          "output_type": "stream",
          "name": "stdout",
          "text": [
            "Animals sound\n",
            "None\n",
            "Meow\n",
            "None\n",
            "Woof\n",
            "None\n"
          ]
        }
      ]
    },
    {
      "cell_type": "markdown",
      "source": [
        "8.How is encapsulation achieved in Python?"
      ],
      "metadata": {
        "id": "fdTNzXdfPilB"
      }
    },
    {
      "cell_type": "markdown",
      "source": [
        "**Answer-** Encapsulation means to hiding something and bundling of data and method of a class.\n",
        "\n",
        "Encapsulation in python is achieved by restricting access to some parts of an object by using access modifiers like Public , Protected and Private."
      ],
      "metadata": {
        "id": "VblJIMdPPmA6"
      }
    },
    {
      "cell_type": "code",
      "source": [
        "#Example >> Encapsulation\n",
        "class Person:\n",
        "  def __init__(self,name,phone,email):\n",
        "     self.name = name  #public\n",
        "     self._phone = phone #protected\n",
        "     self.__email = None #private\n",
        "\n",
        "  def get_email(self): #getter\n",
        "    return self.__email\n",
        "  def set_phone(self,_phone): #setter\n",
        "    self._phone = _phone\n",
        "  def set_email(self,email): #setter\n",
        "    self.__email = email\n",
        "  def get_name(self):\n",
        "    return self.name\n",
        "  def get_phone(self):\n",
        "    return self.phone\n",
        "\n",
        "P1 = Person(\"Yash\",760453,\"yash@gmail.com\")\n",
        "print(P1.name)\n",
        "print(P1._phone) #Accessed but not recommended\n",
        "#print(P1.__email) Give error as accessing private\n",
        "print(P1.get_email())"
      ],
      "metadata": {
        "colab": {
          "base_uri": "https://localhost:8080/"
        },
        "id": "uYK0KxqM7Cv4",
        "outputId": "a3a6cfe5-cb39-4e6a-b8ae-a28a0c19727d"
      },
      "execution_count": null,
      "outputs": [
        {
          "output_type": "stream",
          "name": "stdout",
          "text": [
            "Yash\n",
            "760453\n",
            "None\n"
          ]
        }
      ]
    },
    {
      "cell_type": "markdown",
      "source": [
        "9.What is a constructor in Python?"
      ],
      "metadata": {
        "id": "2z23T_NL8fW9"
      }
    },
    {
      "cell_type": "markdown",
      "source": [
        "**Answer-** A Constructor in python is a special method used to initialize a new object when it is created from a class.\n",
        "\n",
        "Constructor name is always __init__().\n",
        "\n",
        "It is automatically called when an object is created .\n",
        "\n",
        "e.g. __init__(self)"
      ],
      "metadata": {
        "id": "2sSMJAm48vWz"
      }
    },
    {
      "cell_type": "markdown",
      "source": [
        "10.What are class and static methods in Python?"
      ],
      "metadata": {
        "id": "JcKQfubK-jnc"
      }
    },
    {
      "cell_type": "markdown",
      "source": [
        "**Answer-** Class and static method are the special types of method that behave differently from regular instance method.\n",
        "\n",
        "#### Class Method:\n",
        "\n",
        "It takes reference to the class itself to modify and access class level attributes or data.\n",
        "\n",
        "It is defined using the @classmethod decorator.\n",
        "\n",
        "First argument is cls (refers to the class).\n",
        "\n",
        "It works on class and have access to class variables but not instance variables.\n",
        "\n",
        "#### Static method:\n",
        "\n",
        "Static method can be  called  without creating any instance of the class and without using any self or cls.\n",
        "\n",
        "It is defined using @staticmethod decorator.\n",
        "\n",
        "It is used for utility functions that are related to the class but not need object data.\n",
        "\n"
      ],
      "metadata": {
        "id": "hiHcSqGx_j8e"
      }
    },
    {
      "cell_type": "code",
      "source": [
        "#classmethod usecase\n",
        "class Student:\n",
        "  school = \"ABC School\"\n",
        "  @classmethod\n",
        "  def get_School(cls):\n",
        "    return cls.school\n",
        "print(Student.get_School())\n",
        "\n",
        "#static method use case\n",
        "class Math:\n",
        "  @staticmethod\n",
        "  def add(a,b):\n",
        "    return a+b\n",
        "print(Math.add(10,20))"
      ],
      "metadata": {
        "colab": {
          "base_uri": "https://localhost:8080/"
        },
        "id": "iB4eFTE78eiI",
        "outputId": "344c8672-fa2f-4363-bf45-756f10424611"
      },
      "execution_count": null,
      "outputs": [
        {
          "output_type": "stream",
          "name": "stdout",
          "text": [
            "ABC School\n",
            "30\n"
          ]
        }
      ]
    },
    {
      "cell_type": "markdown",
      "source": [
        "11.What is method overloading in Python?"
      ],
      "metadata": {
        "id": "GQ5AZqNmF1sw"
      }
    },
    {
      "cell_type": "markdown",
      "source": [
        "**Answer-** Method Overloading refers to the ability to define the multiple  method with same name but different number or types of arguments.However python does not support method overloading in the traditonal sense.\n",
        "\n",
        "Pyhton handles method overloading by using default arguments or variable length arguments."
      ],
      "metadata": {
        "id": "DPjsujjZ4F8G"
      }
    },
    {
      "cell_type": "code",
      "source": [
        "#use case\n",
        "class Student:\n",
        "  def student(self):\n",
        "    print(\"Welcome to the pw skills\")\n",
        "  def student(self,name = \"\"):\n",
        "    print(\"Welcome to the pw skills\",name)\n",
        "  def student(self,name = \"\",course = \"\"):\n",
        "    print(\"Welcome to the pw skills\",name,course)\n",
        "obj = Student()\n",
        "obj.student()\n",
        "obj.student(\"Yash\")\n",
        "obj.student(\"Yash\",\"Data Science\")\n"
      ],
      "metadata": {
        "id": "idxelQrFC7Wd",
        "colab": {
          "base_uri": "https://localhost:8080/"
        },
        "outputId": "0631e53b-7cd9-4050-f68a-36e1cdbf5458"
      },
      "execution_count": null,
      "outputs": [
        {
          "output_type": "stream",
          "name": "stdout",
          "text": [
            "Welcome to the pw skills  \n",
            "Welcome to the pw skills Yash \n",
            "Welcome to the pw skills Yash Data Science\n"
          ]
        }
      ]
    },
    {
      "cell_type": "markdown",
      "source": [
        "12.What is method overriding in OOP?\n"
      ],
      "metadata": {
        "id": "nfvPFyZI7DyH"
      }
    },
    {
      "cell_type": "markdown",
      "source": [
        "**Answer-** Method Overriding means the method in the parent class with the same signature , the child class method will be executed .\n",
        "\n",
        "Method overriding occurs when a child class defines a method with the same name and parameters as a method in its parent class."
      ],
      "metadata": {
        "id": "2hFijXN47KEl"
      }
    },
    {
      "cell_type": "code",
      "source": [
        "#Method overriding\n",
        "class Animal:\n",
        "  def speak(self):\n",
        "    print(\"Animal is speaking\")\n",
        "class Dog(Animal):\n",
        "  def speak(self):\n",
        "    print(\"Dog is barking\")\n",
        "\n",
        "a = Animal()\n",
        "a.speak()\n",
        "d = Dog()\n",
        "d.speak()"
      ],
      "metadata": {
        "colab": {
          "base_uri": "https://localhost:8080/"
        },
        "id": "oH6c3tjT6_2Y",
        "outputId": "ea71ceb0-bcb2-44c5-eaed-1293d490fff2"
      },
      "execution_count": null,
      "outputs": [
        {
          "output_type": "stream",
          "name": "stdout",
          "text": [
            "Animal is speaking\n",
            "Dog is barking\n"
          ]
        }
      ]
    },
    {
      "cell_type": "markdown",
      "source": [
        "13.What is a property decorator in Python?"
      ],
      "metadata": {
        "id": "axMTiS4a8fKh"
      }
    },
    {
      "cell_type": "markdown",
      "source": [
        "**Answer-** Property Decorator in python allows to modify/extend  the properties or behaviour of the function/class without directly modifying their original code .\n",
        "\n",
        "We use property decorators to increase the  reusability of code and enhancing the function without modifying the  original function."
      ],
      "metadata": {
        "id": "C6FZUUJ88lOP"
      }
    },
    {
      "cell_type": "code",
      "source": [
        "#use case\n",
        "class myDecorator:\n",
        "  def __init__(self,func):\n",
        "      self.func = func\n",
        "  def __call__(self):\n",
        "    print(\"Something is before function\")\n",
        "    self.func()\n",
        "    print(\"Somehting is after function\")\n",
        "\n",
        "@myDecorator\n",
        "def sayHello():\n",
        "  print(\"Hello\")\n",
        "\n",
        "sayHello()"
      ],
      "metadata": {
        "colab": {
          "base_uri": "https://localhost:8080/"
        },
        "id": "uXs4Xr118cJ0",
        "outputId": "f8c8b80b-fdcd-4ac3-8a7c-43c9befe33f7"
      },
      "execution_count": null,
      "outputs": [
        {
          "output_type": "stream",
          "name": "stdout",
          "text": [
            "Something is before function\n",
            "Hello\n",
            "Somehting is after function\n"
          ]
        }
      ]
    },
    {
      "cell_type": "markdown",
      "source": [
        "14. Why is polymorphism important in OOP?"
      ],
      "metadata": {
        "id": "xXCYX4jW_zVj"
      }
    },
    {
      "cell_type": "markdown",
      "source": [
        "**Answer-** Polymorphism is important in OOP because it allows the object of differnet classes to be treated as the object of the common superclass enabling flexibilty , extensibility and code reusability. It supports dynamic runtime behaviour.  \n",
        "\n",
        "It enables simplified code management i.e logic is centralized and easier  to maintain or update.\n"
      ],
      "metadata": {
        "id": "Y68oXiENAERF"
      }
    },
    {
      "cell_type": "markdown",
      "source": [
        "15.What is an abstract class in Python?"
      ],
      "metadata": {
        "id": "uG7JnI_nBz9y"
      }
    },
    {
      "cell_type": "markdown",
      "source": [
        "**Answer-** An Abstract class in python is a class that can not be instantiated on its own and is meant to be subclassed . It defines a common interface for its subclasses often including abstract methods that must be implementd by the child class.\n",
        "\n",
        "A base class ABC is used to define the abstract class .\n",
        "\n",
        "We can not create object of an abstract method.\n",
        "\n",
        "The decorator @abstractmethod is used to define the methods that must be overridden."
      ],
      "metadata": {
        "id": "FeUkiO97B8DC"
      }
    },
    {
      "cell_type": "code",
      "source": [
        "from abc import ABC , abstractmethod\n",
        "class Animal(ABC): #inheriting from ABC make it abstract class\n",
        "  @abstractmethod\n",
        "  def speak(self):\n",
        "    pass\n",
        "class Dog(Animal):\n",
        "  def speak(self):\n",
        "    print(\"Dog is barking\")\n",
        "\n",
        "d = Dog()\n",
        "d.speak()\n",
        "A= Animal() #Can not create object of abstract class(giving error)"
      ],
      "metadata": {
        "colab": {
          "base_uri": "https://localhost:8080/",
          "height": 193
        },
        "id": "R1NhzZaH_yGH",
        "outputId": "f9043e43-9aaa-4aa4-eab2-42831d11c5fc"
      },
      "execution_count": null,
      "outputs": [
        {
          "output_type": "stream",
          "name": "stdout",
          "text": [
            "Dog is barking\n"
          ]
        },
        {
          "output_type": "error",
          "ename": "TypeError",
          "evalue": "Can't instantiate abstract class Animal with abstract method speak",
          "traceback": [
            "\u001b[0;31m---------------------------------------------------------------------------\u001b[0m",
            "\u001b[0;31mTypeError\u001b[0m                                 Traceback (most recent call last)",
            "\u001b[0;32m<ipython-input-7-66d9f0816369>\u001b[0m in \u001b[0;36m<cell line: 0>\u001b[0;34m()\u001b[0m\n\u001b[1;32m     10\u001b[0m \u001b[0md\u001b[0m \u001b[0;34m=\u001b[0m \u001b[0mDog\u001b[0m\u001b[0;34m(\u001b[0m\u001b[0;34m)\u001b[0m\u001b[0;34m\u001b[0m\u001b[0;34m\u001b[0m\u001b[0m\n\u001b[1;32m     11\u001b[0m \u001b[0md\u001b[0m\u001b[0;34m.\u001b[0m\u001b[0mspeak\u001b[0m\u001b[0;34m(\u001b[0m\u001b[0;34m)\u001b[0m\u001b[0;34m\u001b[0m\u001b[0;34m\u001b[0m\u001b[0m\n\u001b[0;32m---> 12\u001b[0;31m \u001b[0mA\u001b[0m\u001b[0;34m=\u001b[0m \u001b[0mAnimal\u001b[0m\u001b[0;34m(\u001b[0m\u001b[0;34m)\u001b[0m \u001b[0;31m#Can not create object of abstract class(giving error)\u001b[0m\u001b[0;34m\u001b[0m\u001b[0;34m\u001b[0m\u001b[0m\n\u001b[0m",
            "\u001b[0;31mTypeError\u001b[0m: Can't instantiate abstract class Animal with abstract method speak"
          ]
        }
      ]
    },
    {
      "cell_type": "markdown",
      "source": [
        "16. What are the advantages of OOP?"
      ],
      "metadata": {
        "id": "3lUqrtvvGdim"
      }
    },
    {
      "cell_type": "markdown",
      "source": [
        "**Answer-** Object - Oriented Programming (OOPS) having several key adavantages that makes it ideal for designing complex , scalable and maintainable software system.\n",
        "\n",
        "1.Modularity - The code is organized in the form of class and objects , making it modular and easier to manage.\n",
        "\n",
        "Each class handles the specific types of functionality.\n",
        "\n",
        "2.Reusability - Through inheritance , existing code can be  reused in new classes.\n",
        "\n",
        "Reduces redundancy and development time.\n",
        "\n",
        "3.Encapsulation- It keeps data safe from outside interference by using protected/private access modifiers.\n",
        "\n",
        "It promotes data hiding and controlled access .\n",
        "\n",
        "4.Abstraction - It simplifies complex systems by modeling class with only essential features.\n",
        "\n",
        "5.Polymorphism - It enables one interface to be used for differnet underlying forms like different classes sharing a method.\n",
        "\n",
        "6.Scalability- OOPs princile makes it easier to build systems that scales in complexity and size over time."
      ],
      "metadata": {
        "id": "5Jv-q1pBGlNi"
      }
    },
    {
      "cell_type": "markdown",
      "source": [
        "17.What is the difference between a class variable and an instance variable?"
      ],
      "metadata": {
        "id": "Ox6X6KgJK0vi"
      }
    },
    {
      "cell_type": "markdown",
      "source": [
        "**Answer-**\n",
        "##### Class Variable :\n",
        "\n",
        "*   It belongs to the class.\n",
        "*   It is shared among all the instances of the class.\n",
        "\n",
        "*   It is declared outside the methods usually at the top of the class body.\n",
        "*   It can be accessed using classname.variable or object.variable.\n",
        "\n",
        "##### Instance Variable:\n",
        "\n",
        "*   It belongs to the instance object.\n",
        "*   It is unique to each object.\n",
        "\n",
        "*   It is declared inside method usually (__init__).\n",
        "*   It can be accessed only by object.variable .\n",
        "\n",
        "\n",
        "\n",
        "\n",
        "\n",
        "\n",
        "\n"
      ],
      "metadata": {
        "id": "8XbypUNnLFgu"
      }
    },
    {
      "cell_type": "markdown",
      "source": [
        "18. What is multiple inheritance in Python?"
      ],
      "metadata": {
        "id": "CNfNflSYNTxW"
      }
    },
    {
      "cell_type": "markdown",
      "source": [
        "**Answer-**\n",
        "##### Multiple Inheritance :\n",
        "  It is the type of inheritance in which the child class inherits the property of multiple parent class.\n",
        "  Python supports it directly, allowing a subclass to inherits attributes and methods of multiple base class."
      ],
      "metadata": {
        "id": "v5qSNx8DNbxz"
      }
    },
    {
      "cell_type": "code",
      "source": [
        "class A:\n",
        "  def methodA(self):\n",
        "    print(\"This is method A\")\n",
        "class B:\n",
        "  def methodB(self):\n",
        "    print(\"This is method B\")\n",
        "class C(A,B):\n",
        "  def methodC(self):\n",
        "    print(\"This is method C\")\n",
        "\n",
        "ch = C()\n",
        "ch.methodA()\n",
        "ch.methodB()\n",
        "ch.methodC()"
      ],
      "metadata": {
        "colab": {
          "base_uri": "https://localhost:8080/"
        },
        "id": "2lnXdgdGGK0K",
        "outputId": "012c1034-834f-4b55-f347-569bffe1cbea"
      },
      "execution_count": null,
      "outputs": [
        {
          "output_type": "stream",
          "name": "stdout",
          "text": [
            "This is method A\n",
            "This is method B\n",
            "This is method C\n"
          ]
        }
      ]
    },
    {
      "cell_type": "markdown",
      "source": [
        "19.Explain the purpose of \"__str__ 'and '__repr__\" methods in Python."
      ],
      "metadata": {
        "id": "kpw8ZHcZo6Hl"
      }
    },
    {
      "cell_type": "markdown",
      "source": [
        "**Answer-** ' __str__'  is a dunder/magic method in python which is used for string representation of methods.\n",
        "\n",
        "'__repr__' is also a dunder or magic method which returns an unambiguous string representation of the object as it is used to recreate the object ."
      ],
      "metadata": {
        "id": "IVJEpO3YpWuv"
      }
    },
    {
      "cell_type": "code",
      "source": [
        "#__str__ use case\n",
        "\n",
        "class Student:\n",
        "  def __init__(self):\n",
        "    self.phone = 9999999\n",
        "\n",
        "  def __str__(self):\n",
        "    return \"This method overloades the print statement of object method\"\n",
        "\n",
        "Student()\n",
        "print(Student())"
      ],
      "metadata": {
        "colab": {
          "base_uri": "https://localhost:8080/"
        },
        "id": "mZ_X2S3uo4Vj",
        "outputId": "dcfc51b9-9336-4e1e-c41e-839a7f2013cf"
      },
      "execution_count": null,
      "outputs": [
        {
          "output_type": "stream",
          "name": "stdout",
          "text": [
            "This method overloades the print statement of object method\n"
          ]
        }
      ]
    },
    {
      "cell_type": "code",
      "source": [
        "# __repr__ use case\n",
        "class Myclass:\n",
        "  def __init__(self,x):\n",
        "    self.x = x\n",
        "  def __repr__(self):\n",
        "    return f\"Myclass({self.x})\"\n",
        "\n",
        "obj = Myclass(10)\n",
        "print(obj)"
      ],
      "metadata": {
        "colab": {
          "base_uri": "https://localhost:8080/"
        },
        "id": "0B5C5beEtbHJ",
        "outputId": "85ee2378-76df-479b-858e-4b3990146fbd"
      },
      "execution_count": null,
      "outputs": [
        {
          "output_type": "stream",
          "name": "stdout",
          "text": [
            "Myclass(10)\n"
          ]
        }
      ]
    },
    {
      "cell_type": "markdown",
      "source": [
        "20. What is the significance of the ‘super()’ function in Python?"
      ],
      "metadata": {
        "id": "xIiiW1s9t2Ta"
      }
    },
    {
      "cell_type": "markdown",
      "source": [
        "**Answer-** The super() function in Python is used to call methods from a parent (super) class. It is most commonly used in inheritance scenarios to:\n",
        "\n",
        "* Access and extend the functionality of parent classes.\n",
        "\n",
        "* Avoid code duplication.\n",
        "\n",
        "* Ensure correct method resolution order (MRO) especially in multiple inheritance."
      ],
      "metadata": {
        "id": "uZiGALDbt6Mi"
      }
    },
    {
      "cell_type": "code",
      "source": [
        "class Animal:\n",
        "  def __init__(self):\n",
        "    print(\"Animal created\")\n",
        "\n",
        "class Dog(Animal):\n",
        "  def __init__(self):\n",
        "    super().__init__()\n",
        "    print(\"Dog created\")\n",
        "d = Dog()"
      ],
      "metadata": {
        "colab": {
          "base_uri": "https://localhost:8080/"
        },
        "id": "NpK1PsVDtxOF",
        "outputId": "cfe18798-e5d5-447f-8ffd-35da4fe37481"
      },
      "execution_count": null,
      "outputs": [
        {
          "output_type": "stream",
          "name": "stdout",
          "text": [
            "Animal created\n",
            "Dog created\n"
          ]
        }
      ]
    },
    {
      "cell_type": "markdown",
      "source": [
        "21.What is the significance of the __del__ method in Python?"
      ],
      "metadata": {
        "id": "2IPp_qdsuxRx"
      }
    },
    {
      "cell_type": "markdown",
      "source": [
        "**Answer-** The signifance of __del__ method is to delete or destroy something.\n",
        "It is a destructor which is called when an object is to be destroyed ."
      ],
      "metadata": {
        "id": "kOi0REdwWlHD"
      }
    },
    {
      "cell_type": "code",
      "source": [
        "class Student:\n",
        "  def __init__(self,name):\n",
        "    self.name = name\n",
        "    print(f\"{self.name} is created\")\n",
        "\n",
        "    def __del__(self):\n",
        "        print(f\"{self.name} is destroyed\")\n",
        "\n",
        "obj = Student(\"Yash\")\n",
        "del obj #object will be destroyed\n",
        "obj.name # gives error"
      ],
      "metadata": {
        "id": "7xShoegbuunp",
        "colab": {
          "base_uri": "https://localhost:8080/",
          "height": 193
        },
        "outputId": "d4581da3-dae6-476e-c58b-d50078f87686"
      },
      "execution_count": 4,
      "outputs": [
        {
          "output_type": "stream",
          "name": "stdout",
          "text": [
            "Yash is created\n"
          ]
        },
        {
          "output_type": "error",
          "ename": "NameError",
          "evalue": "name 'obj' is not defined",
          "traceback": [
            "\u001b[0;31m---------------------------------------------------------------------------\u001b[0m",
            "\u001b[0;31mNameError\u001b[0m                                 Traceback (most recent call last)",
            "\u001b[0;32m<ipython-input-4-b4271d6844e8>\u001b[0m in \u001b[0;36m<cell line: 0>\u001b[0;34m()\u001b[0m\n\u001b[1;32m      9\u001b[0m \u001b[0mobj\u001b[0m \u001b[0;34m=\u001b[0m \u001b[0mStudent\u001b[0m\u001b[0;34m(\u001b[0m\u001b[0;34m\"Yash\"\u001b[0m\u001b[0;34m)\u001b[0m\u001b[0;34m\u001b[0m\u001b[0;34m\u001b[0m\u001b[0m\n\u001b[1;32m     10\u001b[0m \u001b[0;32mdel\u001b[0m \u001b[0mobj\u001b[0m \u001b[0;31m#object will be destroyed\u001b[0m\u001b[0;34m\u001b[0m\u001b[0;34m\u001b[0m\u001b[0m\n\u001b[0;32m---> 11\u001b[0;31m \u001b[0mobj\u001b[0m\u001b[0;34m.\u001b[0m\u001b[0mname\u001b[0m\u001b[0;34m\u001b[0m\u001b[0;34m\u001b[0m\u001b[0m\n\u001b[0m",
            "\u001b[0;31mNameError\u001b[0m: name 'obj' is not defined"
          ]
        }
      ]
    },
    {
      "cell_type": "markdown",
      "source": [
        "22.What is the difference between @staticmethod and @classmethod in Python?"
      ],
      "metadata": {
        "id": "bUp0veqpYElj"
      }
    },
    {
      "cell_type": "markdown",
      "source": [
        "**Answer-**\n",
        "#### Classmethod:-\n",
        " * Classmethod is bound to the class (and not to a particular instance of the class), access/modify methods and attributes associated to the class across all the instances .\n",
        "\n",
        " * Classmethod is defined using @classmethod decorator.\n",
        "\n",
        " * While using classmethod decorator we use cls as first parameter.\n",
        "\n",
        " #### Staticmethod:-\n",
        " * Staticmethod is a method which does not modify the class or instance state.\n",
        "\n",
        " * It behaves like a regular function but lives in the class's namespace.\n",
        "\n",
        " * Staticmethod do not take the self(instance) or cls(class) parameter.\n",
        "\n",
        " * Staticmethod is defined using @staticmethod decorator."
      ],
      "metadata": {
        "id": "w0KHgo8sYhna"
      }
    },
    {
      "cell_type": "markdown",
      "source": [
        "24. How does polymorphism work in Python with inheritance?"
      ],
      "metadata": {
        "id": "b6D8u4_gcJWi"
      }
    },
    {
      "cell_type": "markdown",
      "source": [
        "**Answer-** Polymorphism in Python — especially with inheritance — allows objects of different classes to be treated using a common interface, typically through method overriding in a class hierarchy."
      ],
      "metadata": {
        "id": "J9feMeaWcTjC"
      }
    },
    {
      "cell_type": "code",
      "source": [
        "#Using polymorphism by method overriding in inheritance\n",
        "class Animal:\n",
        "  def speak(self):\n",
        "    print(\"Some Sound\")\n",
        "\n",
        "class Dog(Animal):\n",
        "  def speak(self):\n",
        "    print(\"Woof\")\n",
        "\n",
        "class Cat(Animal):\n",
        "  def speak(self):\n",
        "    print(\"Meow\")\n",
        "\n",
        "a = Animal()\n",
        "a.speak()\n",
        "d = Dog()\n",
        "d.speak()\n",
        "c = Cat()\n",
        "c.speak()"
      ],
      "metadata": {
        "colab": {
          "base_uri": "https://localhost:8080/"
        },
        "id": "mmmTp_PrX7xm",
        "outputId": "2af78b19-1518-4eae-dcb5-5b3e5b0a7bc2"
      },
      "execution_count": 5,
      "outputs": [
        {
          "output_type": "stream",
          "name": "stdout",
          "text": [
            "Some Sound\n",
            "Woof\n",
            "Meow\n"
          ]
        }
      ]
    },
    {
      "cell_type": "markdown",
      "source": [
        "24.What is method chaining in Python OOP?"
      ],
      "metadata": {
        "id": "zC0rapI_m9uU"
      }
    },
    {
      "cell_type": "markdown",
      "source": [
        "**Answer-** Method chaining in python refers to the calling multiple methods on the same object in a single line, one after another. It works by having each method  return self allowing subsequent methods call in the same instance."
      ],
      "metadata": {
        "id": "KxEP-xklnHBp"
      }
    },
    {
      "cell_type": "code",
      "source": [
        "# Method chaining  example\n",
        "class Person:\n",
        "  def __init__(self,name):\n",
        "    self.name = name\n",
        "    self.age = 0\n",
        "  def set_age(self,age):\n",
        "    self.age = age\n",
        "    return self #allowing method chaining\n",
        "\n",
        "  def greet(self):\n",
        "    print(f\"Hi, I'm {self.name}. I'm {self.age} years old. \")\n",
        "    return self\n",
        "\n",
        "person = Person(\"Yash\").set_age(20).greet()"
      ],
      "metadata": {
        "id": "ki1T7DKdm4qp",
        "outputId": "3c413083-0edd-4015-df0c-b946303bff62",
        "colab": {
          "base_uri": "https://localhost:8080/"
        }
      },
      "execution_count": 7,
      "outputs": [
        {
          "output_type": "stream",
          "name": "stdout",
          "text": [
            "Hi, I'm Yash. I'm 20 years old. \n"
          ]
        }
      ]
    },
    {
      "cell_type": "markdown",
      "source": [
        "25.What is the purpose of the __call__ method in Python?"
      ],
      "metadata": {
        "id": "YunECa6RrFKC"
      }
    },
    {
      "cell_type": "markdown",
      "source": [
        "**Answer-** When we define __call__ in a class then we allow its objects to behave like functions.\n",
        "\n",
        "__call__ is a very special method that is called or invoked when you call instance/object of the class as a function."
      ],
      "metadata": {
        "id": "M9nif2eorKrh"
      }
    },
    {
      "cell_type": "code",
      "source": [
        "class myDecorator:\n",
        "  def __init__(self):\n",
        "    print(\"Inside the init method\")\n",
        "  def __call__(self):\n",
        "    print(\"we make an object of the class 'obj' \")\n",
        "    print(\"We call the obj as a function and see the use of __call__\")\n",
        "\n",
        "obj = myDecorator()\n",
        "obj()"
      ],
      "metadata": {
        "id": "RQjni4yRrBAd",
        "outputId": "e1a58cf4-3824-47ef-af9d-29adc762f000",
        "colab": {
          "base_uri": "https://localhost:8080/"
        }
      },
      "execution_count": 8,
      "outputs": [
        {
          "output_type": "stream",
          "name": "stdout",
          "text": [
            "Inside the init method\n",
            "we make an object of the class 'obj' \n",
            "We call the obj as a function and see the use of __call__\n"
          ]
        }
      ]
    },
    {
      "cell_type": "markdown",
      "source": [
        "#Practical Questions :"
      ],
      "metadata": {
        "id": "0QnZq-Y9tX-U"
      }
    },
    {
      "cell_type": "markdown",
      "source": [
        "1. Create a parent class Animal with a method speak() that prints a generic message. Create a child class Dog\n",
        "that overrides the speak() method to print \"Bark!\"."
      ],
      "metadata": {
        "id": "qwXKkkoMthDh"
      }
    },
    {
      "cell_type": "code",
      "source": [
        "class Animal:\n",
        "  def speak(self):\n",
        "    print(\"Animal is speaking\")\n",
        "class Dog(Animal):\n",
        "  def speak(self):\n",
        "    print(\"Bark!\")\n",
        "\n",
        "anm = Animal()\n",
        "anm.speak()\n",
        "dog = Dog()\n",
        "dog.speak()"
      ],
      "metadata": {
        "id": "HzSh6hA6tUEe",
        "outputId": "5fdfb3cf-34c0-422f-f793-ff66db826648",
        "colab": {
          "base_uri": "https://localhost:8080/"
        }
      },
      "execution_count": 9,
      "outputs": [
        {
          "output_type": "stream",
          "name": "stdout",
          "text": [
            "Animal is speaking\n",
            "Bark!\n"
          ]
        }
      ]
    },
    {
      "cell_type": "markdown",
      "source": [
        "2.Write a program to create an abstract class Shape with a method area(). Derive classes Circle and Rectangle\n",
        "from it and implement the area() method in both."
      ],
      "metadata": {
        "id": "8GszvdPBuN0p"
      }
    },
    {
      "cell_type": "code",
      "source": [
        "import abc\n",
        "\n",
        "class Shape:\n",
        "  @abc.abstractmethod\n",
        "  def area(self):\n",
        "    pass\n",
        "\n",
        "class Circle(Shape):\n",
        "  def __init__(self,radius):\n",
        "    self.radius = radius\n",
        "  def area(self):\n",
        "    return 3.14*self.radius*self.radius\n",
        "\n",
        "class Rectangle(Shape):\n",
        "  def __init__(self,length,width):\n",
        "    self.length = length\n",
        "    self.width = width\n",
        "  def area(self):\n",
        "    return self.length*self.width\n",
        "\n",
        "c = Circle(5)\n",
        "print(\"Area of Circle:\",c.area())\n",
        "rect = Rectangle(10,20)\n",
        "print(\"Area of Rectangle:\",rect.area())\n"
      ],
      "metadata": {
        "id": "8BrTvhVnEtdH",
        "outputId": "d9b0761e-826c-4f88-974b-4b8336402d6b",
        "colab": {
          "base_uri": "https://localhost:8080/"
        }
      },
      "execution_count": 11,
      "outputs": [
        {
          "output_type": "stream",
          "name": "stdout",
          "text": [
            "Area of Circle: 78.5\n",
            "Area of Rectangle: 200\n"
          ]
        }
      ]
    },
    {
      "cell_type": "markdown",
      "source": [
        "3.. Implement a multi-level inheritance scenario where a class Vehicle has an attribute type. Derive a class Car\n",
        "and further derive a class ElectricCar that adds a battery attribute."
      ],
      "metadata": {
        "id": "3cbgUNDBFZ-v"
      }
    },
    {
      "cell_type": "code",
      "source": [
        "class Vehicle:\n",
        "  def __init__(self,type):\n",
        "    self.type = type\n",
        "\n",
        "  def show_type(self):\n",
        "    print(f\"Vehicle Type:\",{self.type})\n",
        "\n",
        "class Car(Vehicle):\n",
        "  def __init__(self,type,model):\n",
        "    super().__init__(type)\n",
        "    self.model = model\n",
        "\n",
        "  def show_model(self):\n",
        "    print(f\"Model:\",{self.model})\n",
        "\n",
        "class ElectricCar(Car):\n",
        "  def __init__(self,type,model,battery):\n",
        "    super().__init__(type,model)\n",
        "    self.battery = battery\n",
        "\n",
        "  def show_battery(self):\n",
        "    print(f\"Battery capacity:,{self.battery}KWH\")\n",
        "\n",
        "e_car = ElectricCar(\"Electric\",\"Tesla Model S\",\"75\")\n",
        "e_car.show_type() #From Vehicle\n",
        "e_car.show_model()  #From Car\n",
        "e_car.show_battery() #From ElectricCar\n"
      ],
      "metadata": {
        "id": "zqV4HkkiFOeX",
        "outputId": "bad6e27f-0f8e-402b-ed5f-c4c2ac134c66",
        "colab": {
          "base_uri": "https://localhost:8080/"
        }
      },
      "execution_count": 12,
      "outputs": [
        {
          "output_type": "stream",
          "name": "stdout",
          "text": [
            "Vehicle Type: {'Electric'}\n",
            "Model: {'Tesla Model S'}\n",
            "Battery capacity:,75KWH\n"
          ]
        }
      ]
    },
    {
      "cell_type": "markdown",
      "source": [
        "4. Demonstrate polymorphism by creating a base class Bird with a method fly(). Create two derived classes\n",
        "Sparrow and Penguin that override the fly() method.\n"
      ],
      "metadata": {
        "id": "mq9lXEceIRvN"
      }
    },
    {
      "cell_type": "code",
      "source": [
        "class Bird:     #Base class\n",
        "  def fly(self):\n",
        "    print(\"Bird is flying\")\n",
        "\n",
        "class Sparrow(Bird):\n",
        "  def fly(self):      #Overriding the fly() method of base class\n",
        "    print(\"Sparrow is flying\")\n",
        "\n",
        "class Penguin(Bird):\n",
        "  def fly(self):    #again overriding the base class's attribute fly()\n",
        "    print(\"Penguin is not flying\")\n",
        "\n",
        "bird = Bird()\n",
        "bird.fly()\n",
        "sparrow = Sparrow()\n",
        "sparrow.fly()\n",
        "penguin = Penguin()\n",
        "penguin.fly()"
      ],
      "metadata": {
        "id": "R3TBZmC1IP1K",
        "outputId": "f9b0603a-398d-4b45-d74c-815391681a98",
        "colab": {
          "base_uri": "https://localhost:8080/"
        }
      },
      "execution_count": 13,
      "outputs": [
        {
          "output_type": "stream",
          "name": "stdout",
          "text": [
            "Bird is flying\n",
            "Sparrow is flying\n",
            "Penguin is not flying\n"
          ]
        }
      ]
    },
    {
      "cell_type": "markdown",
      "source": [
        "5. Write a program to demonstrate encapsulation by creating a class BankAccount with private attributes\n",
        "balance and methods to deposit, withdraw, and check balance."
      ],
      "metadata": {
        "id": "Ic9IOw4kJjH0"
      }
    },
    {
      "cell_type": "code",
      "source": [
        "class BankAccount:\n",
        "  def __init__(self,balance): #private variable balance\n",
        "    self.__balance = balance\n",
        "\n",
        "  def deposit(self,amount):\n",
        "    self.__balance += amount\n",
        "\n",
        "  def withdraw(self,amount):\n",
        "    if self.__balance >= amount:\n",
        "      self.__balance -= amount\n",
        "      return True\n",
        "    else:\n",
        "        return False\n",
        "\n",
        "  def check_balance(self):\n",
        "    return self.__balance\n",
        "\n",
        "ac = BankAccount(1000)\n",
        "print(ac.check_balance())\n",
        "ac.deposit(2000)\n",
        "print(ac.check_balance())\n",
        "ac.withdraw(1000)\n",
        "print(ac.check_balance())"
      ],
      "metadata": {
        "id": "VPDpLgs8KTbW",
        "outputId": "32be85f8-83f4-4ac1-f83b-b38eaf0ca9b8",
        "colab": {
          "base_uri": "https://localhost:8080/"
        }
      },
      "execution_count": 15,
      "outputs": [
        {
          "output_type": "stream",
          "name": "stdout",
          "text": [
            "1000\n",
            "3000\n",
            "2000\n"
          ]
        }
      ]
    },
    {
      "cell_type": "markdown",
      "source": [
        "6. Demonstrate runtime polymorphism using a method play() in a base class Instrument. Derive classes Guitar\n",
        "and Piano that implement their own version of play()."
      ],
      "metadata": {
        "id": "6lanMQRkLaey"
      }
    },
    {
      "cell_type": "code",
      "source": [
        "#Base class\n",
        "class Instrument:\n",
        "  def play(self):\n",
        "    print(\"Instrument is playing\")\n",
        "\n",
        "#Derrived class\n",
        "class Guitar(Instrument):\n",
        "  def play(self):\n",
        "    print(\"Guitar is Strumming\")\n",
        "\n",
        "#Derrived class 2\n",
        "class Piano(Instrument):\n",
        "  def play(self):\n",
        "    print(\"Piano is playing\")\n",
        "\n",
        "music = Instrument()\n",
        "music.play()\n",
        "guitar = Guitar()\n",
        "guitar.play()\n",
        "piano = Piano()\n",
        "piano.play()"
      ],
      "metadata": {
        "id": "n-qVzJ7KLPbB",
        "outputId": "2a662b5c-eaca-454f-975b-fa9fc33ca5d8",
        "colab": {
          "base_uri": "https://localhost:8080/"
        }
      },
      "execution_count": 16,
      "outputs": [
        {
          "output_type": "stream",
          "name": "stdout",
          "text": [
            "Instrument is playing\n",
            "Guitar is Strumming\n",
            "Piano is playing\n"
          ]
        }
      ]
    },
    {
      "cell_type": "markdown",
      "source": [
        "7. Create a class MathOperations with a class method add_numbers() to add two numbers and a static\n",
        "method subtract_numbers() to subtract two numbers."
      ],
      "metadata": {
        "id": "hsTxZhzeRUIW"
      }
    },
    {
      "cell_type": "code",
      "source": [
        "class MathOperations:\n",
        "  @classmethod\n",
        "  def add_numbers(cls,a,b):\n",
        "    return a+b\n",
        "\n",
        "  @staticmethod\n",
        "  def subtract_numbers(a,b):\n",
        "    return a-b\n",
        "\n",
        "num = MathOperations()\n",
        "print(num.add_numbers(20,10))\n",
        "MathOperations.subtract_numbers(20,10) # Can be called without an instance as it is a static method"
      ],
      "metadata": {
        "id": "Q9z2sbE7M1yd",
        "outputId": "5b590ef2-224b-4779-89e7-0ddaf2e6dc12",
        "colab": {
          "base_uri": "https://localhost:8080/"
        }
      },
      "execution_count": 19,
      "outputs": [
        {
          "output_type": "stream",
          "name": "stdout",
          "text": [
            "30\n"
          ]
        },
        {
          "output_type": "execute_result",
          "data": {
            "text/plain": [
              "10"
            ]
          },
          "metadata": {},
          "execution_count": 19
        }
      ]
    },
    {
      "cell_type": "markdown",
      "source": [
        "8.Implement a class Person with a class method to count the total number of persons created."
      ],
      "metadata": {
        "id": "kOBvKRRIUCFU"
      }
    },
    {
      "cell_type": "code",
      "source": [
        "class Person:\n",
        "\n",
        "  count = 0  #class variable count to count the number of person\n",
        "  def __init__(self,name):\n",
        "    self.name = name\n",
        "    Person.count += 1\n",
        "\n",
        "  @classmethod\n",
        "  def get_count(cls):\n",
        "    return cls.count\n",
        "\n",
        "print(Person.get_count())\n",
        "p1 = Person(\"Yash\")\n",
        "print(p1.name)\n",
        "p2 = Person(\"Rahul\")\n",
        "print(p2.name)\n",
        "p3 = Person(\"Utkarsh\")\n",
        "print(p3.name)\n",
        "print(Person.get_count())\n"
      ],
      "metadata": {
        "id": "xR64l6LFTa2O",
        "outputId": "89575697-fb0b-41c1-a704-f3bf66e94e5b",
        "colab": {
          "base_uri": "https://localhost:8080/"
        }
      },
      "execution_count": 26,
      "outputs": [
        {
          "output_type": "stream",
          "name": "stdout",
          "text": [
            "0\n",
            "Yash\n",
            "Rahul\n",
            "Utkarsh\n",
            "3\n"
          ]
        }
      ]
    },
    {
      "cell_type": "markdown",
      "source": [
        "9. Write a class Fraction with attributes numerator and denominator. Override the str method to display the\n",
        "fraction as \"numerator/denominator\"."
      ],
      "metadata": {
        "id": "U7nXny6AX6tM"
      }
    },
    {
      "cell_type": "code",
      "source": [
        "class Fraction:\n",
        "  def __init__(self,numerator,denominator):\n",
        "    self.numerator = numerator\n",
        "    self.denominator = denominator\n",
        "\n",
        "  def __str__(self):\n",
        "    return f\"{self.numerator}/{self.denominator}\"\n",
        "\n",
        "f = Fraction(10,20)\n",
        "print(f)"
      ],
      "metadata": {
        "id": "f8kkwHclY220",
        "outputId": "bdb05cb6-4a16-430d-82fb-54af4fd6d26e",
        "colab": {
          "base_uri": "https://localhost:8080/"
        }
      },
      "execution_count": 27,
      "outputs": [
        {
          "output_type": "stream",
          "name": "stdout",
          "text": [
            "10/20\n"
          ]
        }
      ]
    },
    {
      "cell_type": "markdown",
      "source": [
        "10.Demonstrate operator overloading by creating a class Vector and overriding the add method to add two\n",
        "vectors."
      ],
      "metadata": {
        "id": "_7OO-zUVZ3nv"
      }
    },
    {
      "cell_type": "code",
      "source": [
        "class Vector:\n",
        "  def __init__(self,x,y):\n",
        "    self.x = x\n",
        "    self.y = y\n",
        "\n",
        "  def add(self,other):\n",
        "    return Vector(self.x + other.x, self.y + other.y)\n",
        "\n",
        "\n",
        "  def __str__(self):\n",
        "      return f\"({self.x},{self.y})\"\n",
        "\n",
        "v1 = Vector(10,20)\n",
        "v2 = Vector(30,40)\n",
        "v3 = v1.add(v2)\n",
        "print(f\"v1 = {v1}\")\n",
        "print(f\"v2 = {v2}\")\n",
        "print(f\"v1 + v2 = {v3}\")"
      ],
      "metadata": {
        "id": "OTeUOktyZnjg",
        "outputId": "bb2bc9ec-b6eb-47e0-ad83-b85e05c2fe4b",
        "colab": {
          "base_uri": "https://localhost:8080/"
        }
      },
      "execution_count": 29,
      "outputs": [
        {
          "output_type": "stream",
          "name": "stdout",
          "text": [
            "v1 = (10,20)\n",
            "v2 = (30,40)\n",
            "v1 + v2 = (40,60)\n"
          ]
        }
      ]
    },
    {
      "cell_type": "markdown",
      "source": [
        "11.Create a class Person with attributes name and age. Add a method greet() that prints \"Hello, my name is\n",
        "{name} and I am {age} years old.\""
      ],
      "metadata": {
        "id": "P_AMfMKodzsl"
      }
    },
    {
      "cell_type": "code",
      "source": [
        "class Person:\n",
        "  def __init__(self,name,age):\n",
        "    self.name = name\n",
        "    self.age = age\n",
        "\n",
        "  def greet(self):\n",
        "    print(f\"Hello, my name is {self.name} and I am {self.age} years old.\")\n",
        "\n",
        "P1 = Person(\"Yash\",20)\n",
        "P1.greet()"
      ],
      "metadata": {
        "id": "J_kbJbPReQ3k",
        "outputId": "fbc590c2-f23e-40ed-d8ae-a2321ceb12e3",
        "colab": {
          "base_uri": "https://localhost:8080/"
        }
      },
      "execution_count": 31,
      "outputs": [
        {
          "output_type": "stream",
          "name": "stdout",
          "text": [
            "Hello, my name is Yash and I am 20 years old.\n"
          ]
        }
      ]
    },
    {
      "cell_type": "markdown",
      "source": [
        "12. Implement a class Student with attributes name and grades. Create a method average_grade() to compute\n",
        "the average of the grades."
      ],
      "metadata": {
        "id": "9y4xWvQIeXec"
      }
    },
    {
      "cell_type": "code",
      "source": [
        "class Student:\n",
        "  def __init__(self,name,grades):\n",
        "    self.name = name\n",
        "    self.grades = grades\n",
        "\n",
        "  def average_grades(self):\n",
        "    return sum(self.grades)/len(self.grades)\n",
        "\n",
        "s1 = Student(\"Yash\",[10,20,30,40])\n",
        "print(f\"{s1.name}:{s1.average_grades()}\")\n",
        "s2 = Student(\"Rahul\",[20,40,70,50])\n",
        "print(f\"{s2.name}:{s2.average_grades()}\")"
      ],
      "metadata": {
        "id": "s6YxQfeweWXP",
        "outputId": "4bfc6bc0-5f2c-4292-dc52-5b795b45a6fa",
        "colab": {
          "base_uri": "https://localhost:8080/"
        }
      },
      "execution_count": 34,
      "outputs": [
        {
          "output_type": "stream",
          "name": "stdout",
          "text": [
            "Yash:25.0\n",
            "Rahul:45.0\n"
          ]
        }
      ]
    },
    {
      "cell_type": "markdown",
      "source": [
        "13.Create a class Rectangle with methods set_dimensions() to set the dimensions and area() to calculate the\n",
        "area."
      ],
      "metadata": {
        "id": "kGsK_5Xzgr86"
      }
    },
    {
      "cell_type": "code",
      "source": [
        "class Rectangle:\n",
        "  def __init__(self):\n",
        "    self.length = 0\n",
        "    self.breadth = 0\n",
        "\n",
        "  def set_dimensions(self,length,breadth):\n",
        "    self.length = length\n",
        "    self.breadth = breadth\n",
        "\n",
        "  def area(self):\n",
        "    return self.length*self.breadth\n",
        "\n",
        "r1 = Rectangle()\n",
        "r1.set_dimensions(10,20)\n",
        "print(f\"Rectangle Area: {r1.area()}\")"
      ],
      "metadata": {
        "id": "o_a3JSrGhaEK",
        "outputId": "1cf7289a-92f2-4a53-8977-f652dadbbf48",
        "colab": {
          "base_uri": "https://localhost:8080/"
        }
      },
      "execution_count": 38,
      "outputs": [
        {
          "output_type": "stream",
          "name": "stdout",
          "text": [
            "Rectangle Area: 200\n"
          ]
        }
      ]
    },
    {
      "cell_type": "markdown",
      "source": [
        "14.Create a class Employee with a method calculate_salary() that computes the salary based on hours worked\n",
        "and hourly rate. Create a derived class Manager that adds a bonus to the salary."
      ],
      "metadata": {
        "id": "kWZzBs2eiW8X"
      }
    },
    {
      "cell_type": "code",
      "source": [
        "class Employee:\n",
        "  def __init__(self,name,hours_worked,hourly_rate):\n",
        "    self.name = name\n",
        "    self.hours_worked = hours_worked\n",
        "    self.hourly_rate = hourly_rate\n",
        "\n",
        "  def calculate_salary(self):\n",
        "    return self.hours_worked*self.hourly_rate\n",
        "\n",
        "class Manager(Employee):\n",
        "  def __init__(self,name,hours_worked,hourly_rate,bonus):\n",
        "    super().__init__(name,hours_worked,hourly_rate)\n",
        "    self.bonus = bonus\n",
        "\n",
        "  def add_bonus(self):\n",
        "    return self.calculate_salary() + self.bonus\n",
        "\n",
        "E1 = Employee(\"Yash\",100,50)\n",
        "\n",
        "E2 = Employee(\"Utkarsh\",60,50)\n",
        "print(f\"Employee {E1.name}, salary: {E1.calculate_salary()}\")\n",
        "print(f\"Employee {E2.name}, salary: {E2.calculate_salary()}\")\n",
        "M1 = Manager(\"Yash\",100,50,1000)\n",
        "print(f\"Final  salary of {E1.name}: {M1.add_bonus()}\")\n",
        "M2 = Manager(\"Utkarsh\",60,50,1000)\n",
        "print(f\"Final  salary of {E2.name}: {M2.add_bonus()}\")\n"
      ],
      "metadata": {
        "id": "ogi1AdUriTdb",
        "outputId": "f9bc3927-201b-44d9-914d-f0f33a1b5ca2",
        "colab": {
          "base_uri": "https://localhost:8080/"
        }
      },
      "execution_count": 45,
      "outputs": [
        {
          "output_type": "stream",
          "name": "stdout",
          "text": [
            "Employee Yash, salary: 5000\n",
            "Employee Utkarsh, salary: 3000\n",
            "Final  salary of Yash: 6000\n",
            "Final  salary of Utkarsh: 4000\n"
          ]
        }
      ]
    },
    {
      "cell_type": "markdown",
      "source": [
        "15.Create a class Product with attributes name, price, and quantity. Implement a method total_price() that\n",
        "calculates the total price of the product."
      ],
      "metadata": {
        "id": "gGM12sT7oRL3"
      }
    },
    {
      "cell_type": "code",
      "source": [
        "class Product:\n",
        "  def __init__(self,name,price,quantity):\n",
        "    self.name = name\n",
        "    self.price = price\n",
        "    self.quantity = quantity\n",
        "\n",
        "  def total_price(self):\n",
        "    return self.price*self.quantity\n",
        "\n",
        "item1 = Product(\"ParleG\",10,50)\n",
        "item2 = Product(\"Bourbon\",10,30)\n",
        "print(f\"Total price of {item1.name}: {item1.total_price()}\")\n",
        "print(f\"Total price of {item2.name}: {item2.total_price()}\")"
      ],
      "metadata": {
        "id": "ik6EfK73ouAd",
        "outputId": "d2d58610-9ac5-4b4e-fe6e-aeee2cbd255a",
        "colab": {
          "base_uri": "https://localhost:8080/"
        }
      },
      "execution_count": 46,
      "outputs": [
        {
          "output_type": "stream",
          "name": "stdout",
          "text": [
            "Total price of ParleG: 500\n",
            "Total price of Bourbon: 300\n"
          ]
        }
      ]
    },
    {
      "cell_type": "markdown",
      "source": [
        "16. Create a class Animal with an abstract method sound(). Create two derived classes Cow and Sheep that\n",
        "implement the sound() method."
      ],
      "metadata": {
        "id": "CnlvkN5Hpl9Q"
      }
    },
    {
      "cell_type": "code",
      "source": [
        "import abc\n",
        "class Animal: # Abstract base class\n",
        "  @abc.abstractmethod\n",
        "  def sound(self):\n",
        "    print(\"Animal is speaking\")\n",
        "\n",
        "class Cow(Animal):   #Derrived class cow\n",
        "  def sound(self):\n",
        "    print(\"Moo\")\n",
        "\n",
        "class Sheep(Animal):   #Derrived class sheep\n",
        "  def sound(self):\n",
        "    print(\"Baa\")\n",
        "\n",
        "cow = Cow()\n",
        "cow.sound()\n",
        "sheep = Sheep()\n",
        "sheep.sound()\n"
      ],
      "metadata": {
        "id": "yMkiQxeSpYxQ",
        "outputId": "9d0bea0e-a2f4-470b-838b-f802085a40d7",
        "colab": {
          "base_uri": "https://localhost:8080/"
        }
      },
      "execution_count": 48,
      "outputs": [
        {
          "output_type": "stream",
          "name": "stdout",
          "text": [
            "Moo\n",
            "Baa\n"
          ]
        }
      ]
    },
    {
      "cell_type": "markdown",
      "source": [
        "17.Create a class Book with attributes title, author, and year_published. Add a method get_book_info() that\n",
        "returns a formatted string with the book's details."
      ],
      "metadata": {
        "id": "sOOF3L1ZrFEg"
      }
    },
    {
      "cell_type": "code",
      "source": [
        "class Book:\n",
        "  def __init__(self,title,author,year_published):\n",
        "    self.title = title\n",
        "    self.author = author\n",
        "    self.year_published = year_published\n",
        "\n",
        "  def book_info(self):\n",
        "    info = f\"Title: {self.title}\\nAuthor: {self.author}\\nYear Published: {self.year_published}\"\n",
        "    return info\n",
        "\n",
        "book1 = Book(\"Harry Potter\",\"J.K. Rowling\",2000)\n",
        "print(book1.book_info())\n",
        "book2 = Book(\"The Diary of a Young Girl\",\"Anne Frank\",1947)\n",
        "print(book2.book_info())"
      ],
      "metadata": {
        "id": "17SqelQRqpQD",
        "outputId": "e2e48aaa-48bf-4c2c-d2b7-b6d795732736",
        "colab": {
          "base_uri": "https://localhost:8080/"
        }
      },
      "execution_count": 50,
      "outputs": [
        {
          "output_type": "stream",
          "name": "stdout",
          "text": [
            "Title: Harry Potter\n",
            "Author: J.K. Rowling\n",
            "Year Published: 2000\n",
            "Title: The Diary of a Young Girl\n",
            "Author: Anne Frank\n",
            "Year Published: 1947\n"
          ]
        }
      ]
    },
    {
      "cell_type": "markdown",
      "source": [
        "18. Create a class House with attributes address and price. Create a derived class Mansion that adds an\n",
        "attribute number_of_rooms."
      ],
      "metadata": {
        "id": "ySKShMPOr4b9"
      }
    },
    {
      "cell_type": "code",
      "source": [
        "class House:\n",
        "  def __init__(self,address,price):\n",
        "    self.address = address\n",
        "    self.price = price\n",
        "\n",
        "class Mansion(House):\n",
        "  def __init__(self,address,price,number_of_rooms):\n",
        "    super().__init__(address,price)\n",
        "    self.number_of_rooms = number_of_rooms\n",
        "  def house_info(self):\n",
        "    info = f\"House Address: {self.address}\\nHouse Price: {self.price}\\nNumber of Rooms: {self.number_of_rooms}\"\n",
        "    return info\n",
        "\n",
        "h1 = House(\"sector 1 BHEL Haridwar\",1000000)\n",
        "m1 = Mansion(\"sector 1 BHEL Haridwar\",1000000,10)\n",
        "h2 = House(\"sector 2 BHEL Haridwar\",2000000)\n",
        "m2 = Mansion(\"sector 2 BHEL Haridwar\",2000000,20)\n",
        "print(m1.house_info())\n",
        "print(m2.house_info())\n"
      ],
      "metadata": {
        "id": "VofAT-airrDP",
        "outputId": "cdcf05c6-90d5-4295-83a3-65c99a2fdba8",
        "colab": {
          "base_uri": "https://localhost:8080/"
        }
      },
      "execution_count": 54,
      "outputs": [
        {
          "output_type": "stream",
          "name": "stdout",
          "text": [
            "House Address: sector 1 BHEL Haridwar\n",
            "House Price: 1000000\n",
            "Number of Rooms: 10\n",
            "House Address: sector 2 BHEL Haridwar\n",
            "House Price: 2000000\n",
            "Number of Rooms: 20\n"
          ]
        }
      ]
    },
    {
      "cell_type": "code",
      "source": [],
      "metadata": {
        "id": "H8ige2tts-6c"
      },
      "execution_count": null,
      "outputs": []
    }
  ]
}